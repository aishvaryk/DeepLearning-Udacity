{
 "cells": [
  {
   "cell_type": "code",
   "execution_count": 1,
   "metadata": {},
   "outputs": [],
   "source": [
    "import numpy as np"
   ]
  },
  {
   "cell_type": "code",
   "execution_count": 10,
   "metadata": {},
   "outputs": [],
   "source": [
    "x=np.array(5)"
   ]
  },
  {
   "cell_type": "code",
   "execution_count": 11,
   "metadata": {},
   "outputs": [
    {
     "data": {
      "text/plain": [
       "()"
      ]
     },
     "execution_count": 11,
     "metadata": {},
     "output_type": "execute_result"
    }
   ],
   "source": [
    "x.shape"
   ]
  },
  {
   "cell_type": "code",
   "execution_count": 12,
   "metadata": {},
   "outputs": [],
   "source": [
    "v = np.array([1,2,3,4])"
   ]
  },
  {
   "cell_type": "code",
   "execution_count": 13,
   "metadata": {},
   "outputs": [
    {
     "data": {
      "text/plain": [
       "(4,)"
      ]
     },
     "execution_count": 13,
     "metadata": {},
     "output_type": "execute_result"
    }
   ],
   "source": [
    "v.shape #comma is there to show that it is a tuple"
   ]
  },
  {
   "cell_type": "code",
   "execution_count": 17,
   "metadata": {},
   "outputs": [
    {
     "data": {
      "text/plain": [
       "array([[1, 2, 3, 4]])"
      ]
     },
     "execution_count": 17,
     "metadata": {},
     "output_type": "execute_result"
    }
   ],
   "source": [
    "v.reshape(1,4)"
   ]
  },
  {
   "cell_type": "code",
   "execution_count": 18,
   "metadata": {},
   "outputs": [],
   "source": [
    "## reshape alternative \n",
    "x = v[None, :]"
   ]
  },
  {
   "cell_type": "code",
   "execution_count": 19,
   "metadata": {},
   "outputs": [
    {
     "data": {
      "text/plain": [
       "array([[1, 2, 3, 4]])"
      ]
     },
     "execution_count": 19,
     "metadata": {},
     "output_type": "execute_result"
    }
   ],
   "source": [
    "x\n",
    "#Those lines create a slice that looks at all of the items of v but \n",
    "#asks NumPy to add a new dimension of size 1 for the associated axis."
   ]
  },
  {
   "cell_type": "code",
   "execution_count": 20,
   "metadata": {},
   "outputs": [
    {
     "data": {
      "text/plain": [
       "array([3, 4, 5, 6, 7])"
      ]
     },
     "execution_count": 20,
     "metadata": {},
     "output_type": "execute_result"
    }
   ],
   "source": [
    "#numpy opertaions\n",
    "#scalar with numpy\n",
    "v=[1,2,3,4,5]\n",
    "x=np.array(v)+2\n",
    "x"
   ]
  },
  {
   "cell_type": "code",
   "execution_count": 21,
   "metadata": {},
   "outputs": [
    {
     "data": {
      "text/plain": [
       "array([[ 3,  7],\n",
       "       [11, 15]])"
      ]
     },
     "execution_count": 21,
     "metadata": {},
     "output_type": "execute_result"
    }
   ],
   "source": [
    "#we can also use funs but using operations is better\n",
    "a = np.array([[1,3],[5,7]])\n",
    "b = np.array([[2,4],[6,8]])\n",
    "a + b\n",
    "#use above with same shape"
   ]
  },
  {
   "cell_type": "code",
   "execution_count": 39,
   "metadata": {},
   "outputs": [
    {
     "data": {
      "text/plain": [
       "array([[1, 2, 3],\n",
       "       [4, 5, 6]])"
      ]
     },
     "execution_count": 39,
     "metadata": {},
     "output_type": "execute_result"
    }
   ],
   "source": [
    "#element wise multiplication\n",
    "m = np.array([[1,2,3],[4,5,6]])\n",
    "n = m * 5\n",
    "m"
   ]
  },
  {
   "cell_type": "code",
   "execution_count": 40,
   "metadata": {},
   "outputs": [
    {
     "data": {
      "text/plain": [
       "array([[ 5, 10, 15],\n",
       "       [20, 25, 30]])"
      ]
     },
     "execution_count": 40,
     "metadata": {},
     "output_type": "execute_result"
    }
   ],
   "source": [
    "n"
   ]
  },
  {
   "cell_type": "code",
   "execution_count": 31,
   "metadata": {},
   "outputs": [
    {
     "data": {
      "text/plain": [
       "array([[  5,  20,  45],\n",
       "       [ 80, 125, 180]])"
      ]
     },
     "execution_count": 31,
     "metadata": {},
     "output_type": "execute_result"
    }
   ],
   "source": [
    "m * n"
   ]
  },
  {
   "cell_type": "code",
   "execution_count": 32,
   "metadata": {},
   "outputs": [
    {
     "data": {
      "text/plain": [
       "array([[  5,  20,  45],\n",
       "       [ 80, 125, 180]])"
      ]
     },
     "execution_count": 32,
     "metadata": {},
     "output_type": "execute_result"
    }
   ],
   "source": [
    "np.multiply(m, n)  "
   ]
  },
  {
   "cell_type": "code",
   "execution_count": 51,
   "metadata": {},
   "outputs": [
    {
     "data": {
      "text/plain": [
       "array([[110, 140],\n",
       "       [245, 320]])"
      ]
     },
     "execution_count": 51,
     "metadata": {},
     "output_type": "execute_result"
    }
   ],
   "source": [
    "#matrix multiplication\n",
    "#must satisfy matrix rules\n",
    "n=n.reshape(3,2)\n",
    "c=np.matmul(m,n)\n",
    "c"
   ]
  },
  {
   "cell_type": "code",
   "execution_count": 53,
   "metadata": {},
   "outputs": [
    {
     "data": {
      "text/plain": [
       "array([[110, 140],\n",
       "       [245, 320]])"
      ]
     },
     "execution_count": 53,
     "metadata": {},
     "output_type": "execute_result"
    }
   ],
   "source": [
    "#np.dot can also be used but for 2-D matmul is preferable\n",
    "d=np.dot(m,n)\n",
    "d"
   ]
  },
  {
   "cell_type": "code",
   "execution_count": 54,
   "metadata": {},
   "outputs": [],
   "source": [
    "#transpose can be used only when data is aranged in rows to make multiplication possible"
   ]
  },
  {
   "cell_type": "markdown",
   "metadata": {},
   "source": [
    "#### A real use case of transpose"
   ]
  },
  {
   "cell_type": "code",
   "execution_count": 59,
   "metadata": {},
   "outputs": [],
   "source": [
    "inputs = np.array([[-0.27,  0.45,  0.64, 0.31]])"
   ]
  },
  {
   "cell_type": "code",
   "execution_count": 61,
   "metadata": {},
   "outputs": [
    {
     "data": {
      "text/plain": [
       "(1, 4)"
      ]
     },
     "execution_count": 61,
     "metadata": {},
     "output_type": "execute_result"
    }
   ],
   "source": [
    "inputs.shape"
   ]
  },
  {
   "cell_type": "code",
   "execution_count": 64,
   "metadata": {},
   "outputs": [],
   "source": [
    "weights = np.array([[0.02, 0.001, -0.03, 0.036], \\\n",
    "    [0.04, -0.003, 0.025, 0.009], [0.012, -0.045, 0.28, -0.067]])"
   ]
  },
  {
   "cell_type": "code",
   "execution_count": 65,
   "metadata": {},
   "outputs": [
    {
     "data": {
      "text/plain": [
       "(3, 4)"
      ]
     },
     "execution_count": 65,
     "metadata": {},
     "output_type": "execute_result"
    }
   ],
   "source": [
    "weights.shape"
   ]
  },
  {
   "cell_type": "code",
   "execution_count": 67,
   "metadata": {},
   "outputs": [
    {
     "data": {
      "text/plain": [
       "array([[-0.01299,  0.00664,  0.13494]])"
      ]
     },
     "execution_count": 67,
     "metadata": {},
     "output_type": "execute_result"
    }
   ],
   "source": [
    "#here data is arranged in rows \n",
    "#so for multiplication transpose can be used\n",
    "mul=np.matmul(inputs,weights.T)\n",
    "mul"
   ]
  },
  {
   "cell_type": "code",
   "execution_count": 69,
   "metadata": {},
   "outputs": [
    {
     "name": "stdout",
     "output_type": "stream",
     "text": [
      "Input as Array: [[-1  2  7]]\n",
      "Input minus min: [[0 3 8]]\n",
      "Input  Array: [[0.    0.375 1.   ]]\n",
      "Multiply 1:\n",
      "False\n",
      "Multiply 2:\n",
      "[[14]\n",
      " [32]]\n",
      "Multiply 3:\n",
      "[[ 9 12 15]]\n",
      "Mean == 2.6666666666666665\n"
     ]
    }
   ],
   "source": [
    "# Use the numpy library\n",
    "import numpy as np\n",
    "\n",
    "\n",
    "def prepare_inputs(inputs):\n",
    "    # TODO: create a 2-dimensional ndarray from the given 1-dimensional list;\n",
    "    #       assign it to input_array\n",
    "    input_array = np.array([inputs])\n",
    "    \n",
    "    # TODO: find the minimum value in input_array and subtract that\n",
    "    #       value from all the elements of input_array. Store the\n",
    "    #       result in inputs_minus_min\n",
    "    min=inputs[0]\n",
    "    for i in inputs:\n",
    "        if i<min:\n",
    "            min=i\n",
    "    inputs_minus_min = input_array - min\n",
    "\n",
    "    # TODO: find the maximum value in inputs_minus_min and divide\n",
    "    #       all of the values in inputs_minus_min by the maximum value.\n",
    "    #       Store the results in inputs_div_max.\n",
    "    \n",
    "    \n",
    "    inputs_div_max = inputs_minus_min/np.max(inputs_minus_min)\n",
    "\n",
    "    # return the three arrays we've created\n",
    "    return input_array, inputs_minus_min, inputs_div_max\n",
    "    \n",
    "\n",
    "def multiply_inputs(m1, m2):\n",
    "    # TODO: Check the shapes of the matrices m1 and m2. \n",
    "    #       m1 and m2 will be ndarray objects.\n",
    "    #\n",
    "    #       Return False if the shapes cannot be used for matrix\n",
    "    #       multiplication. You may not use a transpose\n",
    "    s1=m1.shape\n",
    "    s2=m2.shape\n",
    "    if s1[1]!=s2[0] and s2[1]!=s1[0]:\n",
    "        return False\n",
    "\n",
    "\n",
    "    # TODO: If you have not returned False, then calculate the matrix product\n",
    "    #       of m1 and m2 and return it. Do not use a transpose,\n",
    "    #       but you swap their order if necessary\n",
    "    if s1[1]==s2[0]:\n",
    "        return np.matmul(m1,m2)\n",
    "        \n",
    "    return np.matmul(m2,m1)\n",
    "    \n",
    "\n",
    "def find_mean(values):\n",
    "    # TODO: Return the average of the values in the given Python list\n",
    "    x=sum(values)\n",
    "    return x/len(values)\n",
    "\n",
    "\n",
    "input_array, inputs_minus_min, inputs_div_max = prepare_inputs([-1,2,7])\n",
    "print(\"Input as Array: {}\".format(input_array))\n",
    "print(\"Input minus min: {}\".format(inputs_minus_min))\n",
    "print(\"Input  Array: {}\".format(inputs_div_max))\n",
    "\n",
    "print(\"Multiply 1:\\n{}\".format(multiply_inputs(np.array([[1,2,3],[4,5,6]]), np.array([[1],[2],[3],[4]]))))\n",
    "print(\"Multiply 2:\\n{}\".format(multiply_inputs(np.array([[1,2,3],[4,5,6]]), np.array([[1],[2],[3]]))))\n",
    "print(\"Multiply 3:\\n{}\".format(multiply_inputs(np.array([[1,2,3],[4,5,6]]), np.array([[1,2]]))))\n",
    "\n",
    "print(\"Mean == {}\".format(find_mean([1,3,4])))"
   ]
  },
  {
   "cell_type": "code",
   "execution_count": 70,
   "metadata": {},
   "outputs": [
    {
     "name": "stdout",
     "output_type": "stream",
     "text": [
      "Input as Array: [[-1  2  7]]\n",
      "Input minus min: [[0 3 8]]\n",
      "Input  Array: [[0.    0.375 1.   ]]\n",
      "Multiply 1:\n",
      "False\n",
      "Multiply 2:\n",
      "[[14]\n",
      " [32]]\n",
      "Multiply 3:\n",
      "[[ 9 12 15]]\n",
      "Mean == 2.6666666666666665\n"
     ]
    }
   ],
   "source": [
    "# Use the numpy library\n",
    "import numpy as np\n",
    "\n",
    "\n",
    "######################################################\n",
    "#\n",
    "#      MESSAGE TO STUDENTS:\n",
    "#\n",
    "#  This file contains a solution to the coding quiz. Feel free\n",
    "#  to look at it when you are stuck, but try to solve the\n",
    "#   problem on your own first.\n",
    "#\n",
    "######################################################\n",
    "\n",
    "\n",
    "def prepare_inputs(inputs):\n",
    "    # TODO: create a 2-dimensional ndarray from the given 1-dimensional list;\n",
    "    #       assign it to input_array\n",
    "    input_array = np.array([inputs])\n",
    "    \n",
    "    # TODO: find the minimum value in input_array and subtract that\n",
    "    #       value from all the elements of input_array. Store the\n",
    "    #       result in inputs_minus_min\n",
    "    # We can use NumPy's min function and element-wise division\n",
    "    inputs_minus_min = input_array - np.min(input_array)\n",
    "\n",
    "    # TODO: find the maximum value in inputs_minus_min and divide\n",
    "    #       all of the values in inputs_minus_min by the maximum value.\n",
    "    #       Store the results in inputs_div_max.\n",
    "    # We can use NumPy's max function and element-wise division\n",
    "    inputs_div_max = inputs_minus_min / np.max(inputs_minus_min)\n",
    "\n",
    "    return input_array, inputs_minus_min, inputs_div_max\n",
    "    \n",
    "\n",
    "def multiply_inputs(m1, m2):\n",
    "    # Check the shapes of the matrices m1 and m2. \n",
    "    # m1 and m2 will be ndarray objects.\n",
    "    #\n",
    "    # Return False if the shapes cannot be used for matrix\n",
    "    # multiplication. You may not use a transpose\n",
    "    if m1.shape[0] != m2.shape[1] and m1.shape[1] != m2.shape[0]:     \n",
    "        return False\n",
    "\n",
    "    # Have not returned False, so calculate the matrix product\n",
    "    # of m1 and m2 and return it. Do not use a transpose,\n",
    "    #       but you swap their order if necessary\n",
    "    if m1.shape[1] == m2.shape[0]:\n",
    "        return np.matmul(m1, m2)        \n",
    "    else:\n",
    "        return np.matmul(m2, m1)        \n",
    "\n",
    "\n",
    "def find_mean(values):\n",
    "    # Return the average of the values in the given Python list\n",
    "    # NumPy has a lot of helpful methods like this.\n",
    "    return np.mean(values)\n",
    "input_array, inputs_minus_min, inputs_div_max = prepare_inputs([-1,2,7])\n",
    "print(\"Input as Array: {}\".format(input_array))\n",
    "print(\"Input minus min: {}\".format(inputs_minus_min))\n",
    "print(\"Input  Array: {}\".format(inputs_div_max))\n",
    "\n",
    "print(\"Multiply 1:\\n{}\".format(multiply_inputs(np.array([[1,2,3],[4,5,6]]), np.array([[1],[2],[3],[4]]))))\n",
    "print(\"Multiply 2:\\n{}\".format(multiply_inputs(np.array([[1,2,3],[4,5,6]]), np.array([[1],[2],[3]]))))\n",
    "print(\"Multiply 3:\\n{}\".format(multiply_inputs(np.array([[1,2,3],[4,5,6]]), np.array([[1,2]]))))\n",
    "\n",
    "print(\"Mean == {}\".format(find_mean([1,3,4])))"
   ]
  },
  {
   "cell_type": "code",
   "execution_count": null,
   "metadata": {},
   "outputs": [],
   "source": []
  }
 ],
 "metadata": {
  "kernelspec": {
   "display_name": "Python [conda env:udacity_deeplearning]",
   "language": "python",
   "name": "conda-env-udacity_deeplearning-py"
  },
  "language_info": {
   "codemirror_mode": {
    "name": "ipython",
    "version": 3
   },
   "file_extension": ".py",
   "mimetype": "text/x-python",
   "name": "python",
   "nbconvert_exporter": "python",
   "pygments_lexer": "ipython3",
   "version": "3.8.2"
  }
 },
 "nbformat": 4,
 "nbformat_minor": 4
}
